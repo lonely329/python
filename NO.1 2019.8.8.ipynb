{
 "cells": [
  {
   "cell_type": "code",
   "execution_count": 2,
   "metadata": {},
   "outputs": [
    {
     "name": "stdout",
     "output_type": "stream",
     "text": [
      "10\n",
      "10\n"
     ]
    }
   ],
   "source": [
    "#leizhongdecanshu \n",
    "class A(object):\n",
    "    def __init__(self,a):\n",
    "        self.a = a #gongxiangcanshu\n",
    "    def B(self,b):\n",
    "        self.b = b\n",
    "        print(b)\n",
    "    def C(self):\n",
    "        print(self.b)\n",
    "\n",
    "#leidediaoyong\n",
    "\n",
    "G = A(1000)\n",
    "G.B(10)\n",
    "G.C()\n",
    "\n",
    "        \n"
   ]
  },
  {
   "cell_type": "code",
   "execution_count": 5,
   "metadata": {},
   "outputs": [
    {
     "name": "stdout",
     "output_type": "stream",
     "text": [
      "1 5 12 22 35 51 70 92 117 145 \\i176 210 247 287 330 376 425 477 532 590 \\i651 715 782 852 925 1001 1080 1162 1247 1335 \\i1426 1520 1617 1717 1820 1926 2035 2147 2262 2380 \\i2501 2625 2752 2882 3015 3151 3290 3432 3577 3725 \\i3876 4030 4187 4347 4510 4676 4845 5017 5192 5370 \\i5551 5735 5922 6112 6305 6501 6700 6902 7107 7315 \\i7526 7740 7957 8177 8400 8626 8855 9087 9322 9560 \\i9801 10045 10292 10542 10795 11051 11310 11572 11837 12105 \\i12376 12650 12927 13207 13490 13776 14065 14357 14652 "
     ]
    }
   ],
   "source": [
    "def getPentagonalNumber():\n",
    "    count = 0\n",
    "    for i in range(1,100):\n",
    "        number = (i * (3*i - 1)) / 2\n",
    "        print(int(number),end = \" \")\n",
    "        count +=1\n",
    "        if count % 10 ==0:\n",
    "            print(end = \"\\i\")\n",
    "            \n",
    "getPentagonalNumber()"
   ]
  },
  {
   "cell_type": "code",
   "execution_count": 11,
   "metadata": {},
   "outputs": [
    {
     "name": "stdout",
     "output_type": "stream",
     "text": [
      "1 5 12 22 35 51 70 92 117 145 \\i176 210 247 287 330 376 425 477 532 590 \\i651 715 782 852 925 1001 1080 1162 1247 1335 \\i1426 1520 1617 1717 1820 1926 2035 2147 2262 2380 \\i2501 2625 2752 2882 3015 3151 3290 3432 3577 3725 \\i3876 4030 4187 4347 4510 4676 4845 5017 5192 5370 \\i5551 5735 5922 6112 6305 6501 6700 6902 7107 7315 \\i7526 7740 7957 8177 8400 8626 8855 9087 9322 9560 \\i9801 10045 10292 10542 10795 11051 11310 11572 11837 12105 \\i12376 12650 12927 13207 13490 13776 14065 14357 14652 "
     ]
    },
    {
     "data": {
      "text/plain": [
       "<__main__.getPentagonalNumber1 at 0x7f2e21fedda0>"
      ]
     },
     "execution_count": 11,
     "metadata": {},
     "output_type": "execute_result"
    }
   ],
   "source": [
    "class getPentagonalNumber1(object):\n",
    "    def __init__(self):\n",
    "        count = 0\n",
    "        for i in range(1,100):\n",
    "            number = (i * (3*i - 1)) / 2\n",
    "            print(int(number),end = \" \")\n",
    "            count +=1\n",
    "            if count % 10 ==0:\n",
    "                print(end = \"\\i\")\n",
    "\n",
    "getPentagonalNumber1()"
   ]
  },
  {
   "cell_type": "code",
   "execution_count": 15,
   "metadata": {},
   "outputs": [
    {
     "name": "stdout",
     "output_type": "stream",
     "text": [
      "enter a n:222\n",
      "sum :  6\n"
     ]
    }
   ],
   "source": [
    "def sumDights(n):\n",
    "    n1 = n // 100 #baiwei\n",
    "    n2 = n%10 #shiwei\n",
    "    n3 = (n % 100) //10\n",
    "    n4 = n1 + n2 + n3\n",
    "    return n4\n",
    "def main():\n",
    "    n = eval(input(\"enter a n:\"))\n",
    "    print(\"sum : \",sumDights(n))\n",
    "    \n",
    "main()"
   ]
  },
  {
   "cell_type": "code",
   "execution_count": 24,
   "metadata": {},
   "outputs": [
    {
     "name": "stdout",
     "output_type": "stream",
     "text": [
      "qingshuru : 25\n",
      "qingshuru : 32\n",
      "qingshuru : 2\n",
      "(2, 25, 32)\n"
     ]
    }
   ],
   "source": [
    "def displaySorteNumber(n1,n2,n3):\n",
    "    list = []\n",
    "    list.append(n1)\n",
    "    list.append(n2)\n",
    "    list.append(n3)\n",
    "    list.sort()\n",
    "    return list[0],list[1],list[2]\n",
    "def main1():\n",
    "    n1 = eval(input(\"qingshuru : \"))\n",
    "    n2 = eval(input(\"qingshuru : \"))\n",
    "    n3 = eval(input(\"qingshuru : \"))\n",
    "    print(displaySorteNumber(n1,n2,n3))\n",
    "    \n",
    "main1()"
   ]
  },
  {
   "cell_type": "code",
   "execution_count": 7,
   "metadata": {},
   "outputs": [
    {
     "name": "stdout",
     "output_type": "stream",
     "text": [
      "shuru investmentamount: 1000\n",
      "shuru monthlyinterestrate :8\n",
      "1 nianhou\t 1083.0\n",
      "2 nianhou\t 1172.89\n",
      "3 nianhou\t 1270.24\n",
      "4 nianhou\t 1375.67\n",
      "5 nianhou\t 1489.85\n",
      "6 nianhou\t 1613.5\n",
      "7 nianhou\t 1747.42\n",
      "8 nianhou\t 1892.46\n",
      "9 nianhou\t 2049.53\n",
      "10 nianhou\t 2219.64\n",
      "11 nianhou\t 2403.87\n",
      "12 nianhou\t 2603.39\n",
      "13 nianhou\t 2819.47\n",
      "14 nianhou\t 3053.48\n",
      "15 nianhou\t 3306.92\n",
      "16 nianhou\t 3581.39\n",
      "17 nianhou\t 3878.65\n",
      "18 nianhou\t 4200.57\n",
      "19 nianhou\t 4549.22\n",
      "20 nianhou\t 4926.8\n",
      "21 nianhou\t 5335.72\n",
      "22 nianhou\t 5778.59\n",
      "23 nianhou\t 6258.21\n",
      "24 nianhou\t 6777.64\n",
      "25 nianhou\t 7340.18\n",
      "26 nianhou\t 7949.41\n",
      "27 nianhou\t 8609.2\n",
      "28 nianhou\t 9323.76\n",
      "29 nianhou\t 10097.63\n",
      "30 nianhou\t 10935.73\n"
     ]
    }
   ],
   "source": [
    "def futureInvestmentValue(investmentamount,monthlyinterestrate,years):\n",
    "    return investmentamount * ((1+monthlyinterestrate/1200) ** (years *12))\n",
    "def main():\n",
    "    investmentamount = eval(input(\"shuru investmentamount: \"))\n",
    "    monthlyinterestrate = eval(input(\"shuru monthlyinterestrate :\"))\n",
    "    year = 30\n",
    "    for i in range(year):\n",
    "        Value = futureInvestmentValue(investmentamount,monthlyinterestrate,i+1)\n",
    "        print(i+1,\"nianhou\\t\",round(Value,2))\n",
    "        \n",
    "main()"
   ]
  },
  {
   "cell_type": "code",
   "execution_count": 26,
   "metadata": {},
   "outputs": [
    {
     "name": "stdout",
     "output_type": "stream",
     "text": [
      "1 2 3 4 5 6 7 8 9 : \n",
      "; < = > ? @ A B C D \n",
      "E F G H I J K L M N \n",
      "O P Q R S T U V W X \n",
      "Y Z [ \\ ] ^ _ ` a b \n",
      "c d e f g h i j k l \n",
      "m n o p q r s t u v \n",
      "w x y "
     ]
    }
   ],
   "source": [
    "def printChars(ch1,ch2):\n",
    "    a = ord(ch1)\n",
    "    b = ord(ch2)\n",
    "    count = 0\n",
    "    for i in range(a,b):\n",
    "        a1 = chr(i)\n",
    "        print(a1,end=\" \")\n",
    "        count += 1\n",
    "        if count % 10 ==0:\n",
    "            print(end = \"\\n\")\n",
    "            \n",
    "printChars(\"1\",\"z\")"
   ]
  },
  {
   "cell_type": "code",
   "execution_count": 27,
   "metadata": {},
   "outputs": [
    {
     "name": "stdout",
     "output_type": "stream",
     "text": [
      "2008 366day\n",
      "----------\n",
      "2010 365day\n",
      "2011 365day\n",
      "2012 366day\n",
      "2013 365day\n",
      "2014 365day\n",
      "2015 365day\n",
      "2016 366day\n",
      "2017 365day\n",
      "2018 365day\n",
      "2019 365day\n",
      "2020 366day\n"
     ]
    }
   ],
   "source": [
    "def BBB(year):\n",
    "    if (year % 4) ==0 and (year %100) != 0 or (year % 400) ==0:\n",
    "        print(year,\"366day\")\n",
    "    else:\n",
    "        print(year,\"365day\")\n",
    "    print(\"----------\")\n",
    "    for i in range(2010,2021):\n",
    "        if (i % 4) == 0 and (i % 100) != 0 or (i % 400) ==0:\n",
    "            print(i,\"366day\")\n",
    "        else:\n",
    "            print(i,\"365day\")\n",
    "            \n",
    "BBB(2008)"
   ]
  },
  {
   "cell_type": "code",
   "execution_count": 29,
   "metadata": {},
   "outputs": [
    {
     "data": {
      "text/plain": [
       "1.0"
      ]
     },
     "execution_count": 29,
     "metadata": {},
     "output_type": "execute_result"
    }
   ],
   "source": [
    "import numpy as np\n",
    "def distance(x1,x2,y1,y2):\n",
    "    d = round(np.sqrt(pow((x1-x2),2)+pow((y1-y2),2)),2)\n",
    "    return d\n",
    "distance(2,3,4,4)"
   ]
  },
  {
   "cell_type": "code",
   "execution_count": 39,
   "metadata": {},
   "outputs": [],
   "source": [
    "def sushu(num):\n",
    "    for  y in range(2,num):\n",
    "        if num % y ==0:\n",
    "            break\n",
    "        else:\n",
    "            return True"
   ]
  },
  {
   "cell_type": "code",
   "execution_count": 43,
   "metadata": {},
   "outputs": [
    {
     "name": "stdout",
     "output_type": "stream",
     "text": [
      "0 3\n",
      "1 3\n",
      "2 3\n",
      "0 5\n",
      "1 5\n",
      "2 5\n",
      "3 5\n",
      "4 5\n",
      "0 7\n",
      "1 7\n",
      "2 7\n",
      "3 7\n",
      "4 7\n",
      "5 7\n",
      "6 7\n",
      "0 9\n",
      "1 9\n",
      "2 9\n",
      "3 9\n",
      "4 9\n",
      "5 9\n",
      "6 9\n",
      "7 9\n",
      "8 9\n",
      "0 11\n",
      "1 11\n",
      "2 11\n",
      "3 11\n",
      "4 11\n",
      "5 11\n",
      "6 11\n",
      "7 11\n",
      "8 11\n",
      "9 11\n",
      "10 11\n",
      "0 13\n",
      "1 13\n",
      "2 13\n",
      "3 13\n",
      "4 13\n",
      "5 13\n",
      "6 13\n",
      "7 13\n",
      "8 13\n",
      "9 13\n",
      "10 13\n",
      "11 13\n",
      "12 13\n",
      "0 15\n",
      "1 15\n",
      "2 15\n",
      "3 15\n",
      "4 15\n",
      "5 15\n",
      "6 15\n",
      "7 15\n",
      "8 15\n",
      "9 15\n",
      "10 15\n",
      "11 15\n",
      "12 15\n",
      "13 15\n",
      "14 15\n",
      "0 17\n",
      "1 17\n",
      "2 17\n",
      "3 17\n",
      "4 17\n",
      "5 17\n",
      "6 17\n",
      "7 17\n",
      "8 17\n",
      "9 17\n",
      "10 17\n",
      "11 17\n",
      "12 17\n",
      "13 17\n",
      "14 17\n",
      "15 17\n",
      "16 17\n",
      "0 19\n",
      "1 19\n",
      "2 19\n",
      "3 19\n",
      "4 19\n",
      "5 19\n",
      "6 19\n",
      "7 19\n",
      "8 19\n",
      "9 19\n",
      "10 19\n",
      "11 19\n",
      "12 19\n",
      "13 19\n",
      "14 19\n",
      "15 19\n",
      "16 19\n",
      "17 19\n",
      "18 19\n",
      "0 21\n",
      "1 21\n",
      "2 21\n",
      "3 21\n",
      "4 21\n",
      "5 21\n",
      "6 21\n",
      "7 21\n",
      "8 21\n",
      "9 21\n",
      "10 21\n",
      "11 21\n",
      "12 21\n",
      "13 21\n",
      "14 21\n",
      "15 21\n",
      "16 21\n",
      "17 21\n",
      "18 21\n",
      "19 21\n",
      "20 21\n",
      "0 23\n",
      "1 23\n",
      "2 23\n",
      "3 23\n",
      "4 23\n",
      "5 23\n",
      "6 23\n",
      "7 23\n",
      "8 23\n",
      "9 23\n",
      "10 23\n",
      "11 23\n",
      "12 23\n",
      "13 23\n",
      "14 23\n",
      "15 23\n",
      "16 23\n",
      "17 23\n",
      "18 23\n",
      "19 23\n",
      "20 23\n",
      "21 23\n",
      "22 23\n",
      "0 25\n",
      "1 25\n",
      "2 25\n",
      "3 25\n",
      "4 25\n",
      "5 25\n",
      "6 25\n",
      "7 25\n",
      "8 25\n",
      "9 25\n",
      "10 25\n",
      "11 25\n",
      "12 25\n",
      "13 25\n",
      "14 25\n",
      "15 25\n",
      "16 25\n",
      "17 25\n",
      "18 25\n",
      "19 25\n",
      "20 25\n",
      "21 25\n",
      "22 25\n",
      "23 25\n",
      "24 25\n",
      "0 27\n",
      "1 27\n",
      "2 27\n",
      "3 27\n",
      "4 27\n",
      "5 27\n",
      "6 27\n",
      "7 27\n",
      "8 27\n",
      "9 27\n",
      "10 27\n",
      "11 27\n",
      "12 27\n",
      "13 27\n",
      "14 27\n",
      "15 27\n",
      "16 27\n",
      "17 27\n",
      "18 27\n",
      "19 27\n",
      "20 27\n",
      "21 27\n",
      "22 27\n",
      "23 27\n",
      "24 27\n",
      "25 27\n",
      "26 27\n",
      "0 29\n",
      "1 29\n",
      "2 29\n",
      "3 29\n",
      "4 29\n",
      "5 29\n",
      "6 29\n",
      "7 29\n",
      "8 29\n",
      "9 29\n",
      "10 29\n",
      "11 29\n",
      "12 29\n",
      "13 29\n",
      "14 29\n",
      "15 29\n",
      "16 29\n",
      "17 29\n",
      "18 29\n",
      "19 29\n",
      "20 29\n",
      "21 29\n",
      "22 29\n",
      "23 29\n",
      "24 29\n",
      "25 29\n",
      "26 29\n",
      "27 29\n",
      "28 29\n",
      "0 31\n",
      "1 31\n",
      "2 31\n",
      "3 31\n",
      "4 31\n",
      "5 31\n",
      "6 31\n",
      "7 31\n",
      "8 31\n",
      "9 31\n",
      "10 31\n",
      "11 31\n",
      "12 31\n",
      "13 31\n",
      "14 31\n",
      "15 31\n",
      "16 31\n",
      "17 31\n",
      "18 31\n",
      "19 31\n",
      "20 31\n",
      "21 31\n",
      "22 31\n",
      "23 31\n",
      "24 31\n",
      "25 31\n",
      "26 31\n",
      "27 31\n",
      "28 31\n",
      "29 31\n",
      "30 31\n"
     ]
    }
   ],
   "source": [
    "def AAA(num):\n",
    "    for i in range(num):\n",
    "        if sushu(num) == True:\n",
    "            print(i,num)\n",
    "for num in range(1,32):\n",
    "    AAA(num)"
   ]
  },
  {
   "cell_type": "code",
   "execution_count": 10,
   "metadata": {},
   "outputs": [
    {
     "name": "stdout",
     "output_type": "stream",
     "text": [
      "haomiaowei :  1565352571.7080848\n",
      "Fri Aug  9 20:09:31 2019\n"
     ]
    }
   ],
   "source": [
    "import time\n",
    "def time1():\n",
    "    a = time.time()\n",
    "    print(\"haomiaowei : \",a)\n",
    "    print(time.asctime(time.localtime(time.time())))\n",
    "    \n",
    "time1()"
   ]
  },
  {
   "cell_type": "code",
   "execution_count": 15,
   "metadata": {},
   "outputs": [
    {
     "name": "stdout",
     "output_type": "stream",
     "text": [
      "5\n",
      "2\n",
      "you win\n"
     ]
    }
   ],
   "source": [
    "import random\n",
    "def nanana():\n",
    "    a = random.randint(1,8)\n",
    "    print(a)\n",
    "    b = random.randint(1,8)\n",
    "    print(b)\n",
    "    if a + b == 2 or a + b == 12 or a + b ==3:\n",
    "        ww = True\n",
    "        print(\"you lose\")\n",
    "    elif a + b ==7 or a + b ==11:\n",
    "        ee = True\n",
    "        print(\"you win\")\n",
    "    else:\n",
    "        print(\"again\")\n",
    "        while True:\n",
    "            c = random.randint(1,8)\n",
    "            d = random.randint(1,8)\n",
    "            if c == 7 or d == 7:\n",
    "                print(\"you win\")\n",
    "                break\n",
    "nanana()"
   ]
  },
  {
   "cell_type": "code",
   "execution_count": 16,
   "metadata": {},
   "outputs": [
    {
     "ename": "KeyboardInterrupt",
     "evalue": "",
     "output_type": "error",
     "traceback": [
      "\u001b[0;31m---------------------------------------------------------------------------\u001b[0m",
      "\u001b[0;31mKeyboardInterrupt\u001b[0m                         Traceback (most recent call last)",
      "\u001b[0;32m/usr/lib/python3/dist-packages/ipykernel/kernelbase.py\u001b[0m in \u001b[0;36m_input_request\u001b[0;34m(self, prompt, ident, parent, password)\u001b[0m\n\u001b[1;32m    728\u001b[0m             \u001b[0;32mtry\u001b[0m\u001b[0;34m:\u001b[0m\u001b[0;34m\u001b[0m\u001b[0;34m\u001b[0m\u001b[0m\n\u001b[0;32m--> 729\u001b[0;31m                 \u001b[0mident\u001b[0m\u001b[0;34m,\u001b[0m \u001b[0mreply\u001b[0m \u001b[0;34m=\u001b[0m \u001b[0mself\u001b[0m\u001b[0;34m.\u001b[0m\u001b[0msession\u001b[0m\u001b[0;34m.\u001b[0m\u001b[0mrecv\u001b[0m\u001b[0;34m(\u001b[0m\u001b[0mself\u001b[0m\u001b[0;34m.\u001b[0m\u001b[0mstdin_socket\u001b[0m\u001b[0;34m,\u001b[0m \u001b[0;36m0\u001b[0m\u001b[0;34m)\u001b[0m\u001b[0;34m\u001b[0m\u001b[0;34m\u001b[0m\u001b[0m\n\u001b[0m\u001b[1;32m    730\u001b[0m             \u001b[0;32mexcept\u001b[0m \u001b[0mException\u001b[0m\u001b[0;34m:\u001b[0m\u001b[0;34m\u001b[0m\u001b[0;34m\u001b[0m\u001b[0m\n",
      "\u001b[0;32m/usr/lib/python3/dist-packages/jupyter_client/session.py\u001b[0m in \u001b[0;36mrecv\u001b[0;34m(self, socket, mode, content, copy)\u001b[0m\n\u001b[1;32m    802\u001b[0m         \u001b[0;32mtry\u001b[0m\u001b[0;34m:\u001b[0m\u001b[0;34m\u001b[0m\u001b[0;34m\u001b[0m\u001b[0m\n\u001b[0;32m--> 803\u001b[0;31m             \u001b[0mmsg_list\u001b[0m \u001b[0;34m=\u001b[0m \u001b[0msocket\u001b[0m\u001b[0;34m.\u001b[0m\u001b[0mrecv_multipart\u001b[0m\u001b[0;34m(\u001b[0m\u001b[0mmode\u001b[0m\u001b[0;34m,\u001b[0m \u001b[0mcopy\u001b[0m\u001b[0;34m=\u001b[0m\u001b[0mcopy\u001b[0m\u001b[0;34m)\u001b[0m\u001b[0;34m\u001b[0m\u001b[0;34m\u001b[0m\u001b[0m\n\u001b[0m\u001b[1;32m    804\u001b[0m         \u001b[0;32mexcept\u001b[0m \u001b[0mzmq\u001b[0m\u001b[0;34m.\u001b[0m\u001b[0mZMQError\u001b[0m \u001b[0;32mas\u001b[0m \u001b[0me\u001b[0m\u001b[0;34m:\u001b[0m\u001b[0;34m\u001b[0m\u001b[0;34m\u001b[0m\u001b[0m\n",
      "\u001b[0;32m/usr/lib/python3/dist-packages/zmq/sugar/socket.py\u001b[0m in \u001b[0;36mrecv_multipart\u001b[0;34m(self, flags, copy, track)\u001b[0m\n\u001b[1;32m    394\u001b[0m         \"\"\"\n\u001b[0;32m--> 395\u001b[0;31m         \u001b[0mparts\u001b[0m \u001b[0;34m=\u001b[0m \u001b[0;34m[\u001b[0m\u001b[0mself\u001b[0m\u001b[0;34m.\u001b[0m\u001b[0mrecv\u001b[0m\u001b[0;34m(\u001b[0m\u001b[0mflags\u001b[0m\u001b[0;34m,\u001b[0m \u001b[0mcopy\u001b[0m\u001b[0;34m=\u001b[0m\u001b[0mcopy\u001b[0m\u001b[0;34m,\u001b[0m \u001b[0mtrack\u001b[0m\u001b[0;34m=\u001b[0m\u001b[0mtrack\u001b[0m\u001b[0;34m)\u001b[0m\u001b[0;34m]\u001b[0m\u001b[0;34m\u001b[0m\u001b[0;34m\u001b[0m\u001b[0m\n\u001b[0m\u001b[1;32m    396\u001b[0m         \u001b[0;31m# have first part already, only loop while more to receive\u001b[0m\u001b[0;34m\u001b[0m\u001b[0;34m\u001b[0m\u001b[0;34m\u001b[0m\u001b[0m\n",
      "\u001b[0;32mzmq/backend/cython/socket.pyx\u001b[0m in \u001b[0;36mzmq.backend.cython.socket.Socket.recv (zmq/backend/cython/socket.c:7692)\u001b[0;34m()\u001b[0m\n",
      "\u001b[0;32mzmq/backend/cython/socket.pyx\u001b[0m in \u001b[0;36mzmq.backend.cython.socket.Socket.recv (zmq/backend/cython/socket.c:7469)\u001b[0;34m()\u001b[0m\n",
      "\u001b[0;32mzmq/backend/cython/socket.pyx\u001b[0m in \u001b[0;36mzmq.backend.cython.socket._recv_copy (zmq/backend/cython/socket.c:2353)\u001b[0;34m()\u001b[0m\n",
      "\u001b[0;32m/usr/lib/python3/dist-packages/zmq/backend/cython/checkrc.pxd\u001b[0m in \u001b[0;36mzmq.backend.cython.checkrc._check_rc (zmq/backend/cython/socket.c:8007)\u001b[0;34m()\u001b[0m\n",
      "\u001b[0;31mKeyboardInterrupt\u001b[0m: ",
      "\nDuring handling of the above exception, another exception occurred:\n",
      "\u001b[0;31mKeyboardInterrupt\u001b[0m                         Traceback (most recent call last)",
      "\u001b[0;32m<ipython-input-16-d4dd16f8ed10>\u001b[0m in \u001b[0;36m<module>\u001b[0;34m()\u001b[0m\n\u001b[1;32m     25\u001b[0m         \u001b[0mprint\u001b[0m\u001b[0;34m(\u001b[0m\u001b[0ma\u001b[0m\u001b[0;34m,\u001b[0m\u001b[0;34m\"jiazaizhong-----\"\u001b[0m\u001b[0;34m)\u001b[0m\u001b[0;34m\u001b[0m\u001b[0;34m\u001b[0m\u001b[0m\n\u001b[1;32m     26\u001b[0m \u001b[0mb\u001b[0m \u001b[0;34m=\u001b[0m \u001b[0mwangzherongyao\u001b[0m\u001b[0;34m(\u001b[0m\u001b[0;34m)\u001b[0m\u001b[0;34m\u001b[0m\u001b[0;34m\u001b[0m\u001b[0m\n\u001b[0;32m---> 27\u001b[0;31m \u001b[0mb\u001b[0m\u001b[0;34m.\u001b[0m\u001b[0mmode\u001b[0m\u001b[0;34m(\u001b[0m\u001b[0;34m)\u001b[0m\u001b[0;34m\u001b[0m\u001b[0;34m\u001b[0m\u001b[0m\n\u001b[0m\u001b[1;32m     28\u001b[0m \u001b[0mb\u001b[0m\u001b[0;34m.\u001b[0m\u001b[0mpickcharather\u001b[0m\u001b[0;34m(\u001b[0m\u001b[0;34m)\u001b[0m\u001b[0;34m\u001b[0m\u001b[0;34m\u001b[0m\u001b[0m\n\u001b[1;32m     29\u001b[0m \u001b[0mb\u001b[0m\u001b[0;34m.\u001b[0m\u001b[0mstart\u001b[0m\u001b[0;34m(\u001b[0m\u001b[0;34m)\u001b[0m\u001b[0;34m\u001b[0m\u001b[0;34m\u001b[0m\u001b[0m\n",
      "\u001b[0;32m<ipython-input-16-d4dd16f8ed10>\u001b[0m in \u001b[0;36mmode\u001b[0;34m(self)\u001b[0m\n\u001b[1;32m      3\u001b[0m \u001b[0;34m\u001b[0m\u001b[0m\n\u001b[1;32m      4\u001b[0m     \u001b[0;32mdef\u001b[0m \u001b[0mmode\u001b[0m\u001b[0;34m(\u001b[0m\u001b[0mself\u001b[0m\u001b[0;34m)\u001b[0m\u001b[0;34m:\u001b[0m\u001b[0;34m\u001b[0m\u001b[0;34m\u001b[0m\u001b[0m\n\u001b[0;32m----> 5\u001b[0;31m         \u001b[0mclick\u001b[0m \u001b[0;34m=\u001b[0m \u001b[0minput\u001b[0m\u001b[0;34m(\u001b[0m\u001b[0;34m\"robot\"\u001b[0m\u001b[0;32mor\u001b[0m\u001b[0;34m\"people\"\u001b[0m\u001b[0;34m)\u001b[0m\u001b[0;34m\u001b[0m\u001b[0;34m\u001b[0m\u001b[0m\n\u001b[0m\u001b[1;32m      6\u001b[0m         \u001b[0mprint\u001b[0m\u001b[0;34m(\u001b[0m\u001b[0mclick\u001b[0m\u001b[0;34m)\u001b[0m\u001b[0;34m\u001b[0m\u001b[0;34m\u001b[0m\u001b[0m\n\u001b[1;32m      7\u001b[0m     \u001b[0;32mdef\u001b[0m \u001b[0mpickcharather\u001b[0m\u001b[0;34m(\u001b[0m\u001b[0mself\u001b[0m\u001b[0;34m)\u001b[0m\u001b[0;34m:\u001b[0m\u001b[0;34m\u001b[0m\u001b[0;34m\u001b[0m\u001b[0m\n",
      "\u001b[0;32m/usr/lib/python3/dist-packages/ipykernel/kernelbase.py\u001b[0m in \u001b[0;36mraw_input\u001b[0;34m(self, prompt)\u001b[0m\n\u001b[1;32m    702\u001b[0m             \u001b[0mself\u001b[0m\u001b[0;34m.\u001b[0m\u001b[0m_parent_ident\u001b[0m\u001b[0;34m,\u001b[0m\u001b[0;34m\u001b[0m\u001b[0;34m\u001b[0m\u001b[0m\n\u001b[1;32m    703\u001b[0m             \u001b[0mself\u001b[0m\u001b[0;34m.\u001b[0m\u001b[0m_parent_header\u001b[0m\u001b[0;34m,\u001b[0m\u001b[0;34m\u001b[0m\u001b[0;34m\u001b[0m\u001b[0m\n\u001b[0;32m--> 704\u001b[0;31m             \u001b[0mpassword\u001b[0m\u001b[0;34m=\u001b[0m\u001b[0;32mFalse\u001b[0m\u001b[0;34m,\u001b[0m\u001b[0;34m\u001b[0m\u001b[0;34m\u001b[0m\u001b[0m\n\u001b[0m\u001b[1;32m    705\u001b[0m         )\n\u001b[1;32m    706\u001b[0m \u001b[0;34m\u001b[0m\u001b[0m\n",
      "\u001b[0;32m/usr/lib/python3/dist-packages/ipykernel/kernelbase.py\u001b[0m in \u001b[0;36m_input_request\u001b[0;34m(self, prompt, ident, parent, password)\u001b[0m\n\u001b[1;32m    732\u001b[0m             \u001b[0;32mexcept\u001b[0m \u001b[0mKeyboardInterrupt\u001b[0m\u001b[0;34m:\u001b[0m\u001b[0;34m\u001b[0m\u001b[0;34m\u001b[0m\u001b[0m\n\u001b[1;32m    733\u001b[0m                 \u001b[0;31m# re-raise KeyboardInterrupt, to truncate traceback\u001b[0m\u001b[0;34m\u001b[0m\u001b[0;34m\u001b[0m\u001b[0;34m\u001b[0m\u001b[0m\n\u001b[0;32m--> 734\u001b[0;31m                 \u001b[0;32mraise\u001b[0m \u001b[0mKeyboardInterrupt\u001b[0m\u001b[0;34m\u001b[0m\u001b[0;34m\u001b[0m\u001b[0m\n\u001b[0m\u001b[1;32m    735\u001b[0m             \u001b[0;32melse\u001b[0m\u001b[0;34m:\u001b[0m\u001b[0;34m\u001b[0m\u001b[0;34m\u001b[0m\u001b[0m\n\u001b[1;32m    736\u001b[0m                 \u001b[0;32mbreak\u001b[0m\u001b[0;34m\u001b[0m\u001b[0;34m\u001b[0m\u001b[0m\n",
      "\u001b[0;31mKeyboardInterrupt\u001b[0m: "
     ]
    }
   ],
   "source": [
    "\n",
    "class wangzherongyao(object):\n",
    "    \n",
    "    def mode(self):\n",
    "        click = input(\"robot\"or\"people\")\n",
    "        print(click)\n",
    "    def pickcharather(self):\n",
    "        c = input(\"xuanzheyingxiong : dw,zy,lb\")\n",
    "        if c == \"dw\":\n",
    "            print(c,\"power--5000 armor -- 35000\")\n",
    "        elif c == \"zy\":\n",
    "            print(c,\"power--4000 armor -- 30000\")\n",
    "        else:\n",
    "            print(c,\"power--6000 armor -- 45000\")\n",
    "    def random(self):\n",
    "        res = np.random.choice([\"dw\",\"zy\",\"lb\"])\n",
    "        if res == \"dw\":\n",
    "            print(res,\"powr--000 armor -- 35000\")\n",
    "        elif res == \"zy\":\n",
    "            print(res,\"power--4000 armor -- 30000\")\n",
    "        else:\n",
    "            print(res,\"power--6000 armor -- 45000\")\n",
    "    def start(self):\n",
    "        a = input(\"kaishi\")\n",
    "        print(a,\"jiazaizhong-----\")\n",
    "b = wangzherongyao()\n",
    "b.mode()\n",
    "b.pickcharather()\n",
    "b.start()"
   ]
  },
  {
   "cell_type": "code",
   "execution_count": null,
   "metadata": {},
   "outputs": [],
   "source": []
  }
 ],
 "metadata": {
  "kernelspec": {
   "display_name": "Python 3",
   "language": "python",
   "name": "python3"
  },
  "language_info": {
   "codemirror_mode": {
    "name": "ipython",
    "version": 3
   },
   "file_extension": ".py",
   "mimetype": "text/x-python",
   "name": "python",
   "nbconvert_exporter": "python",
   "pygments_lexer": "ipython3",
   "version": "3.6.8"
  }
 },
 "nbformat": 4,
 "nbformat_minor": 2
}
